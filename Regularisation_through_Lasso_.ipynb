{
  "nbformat": 4,
  "nbformat_minor": 0,
  "metadata": {
    "colab": {
      "provenance": [],
      "authorship_tag": "ABX9TyPZum+fvR8MwAJH9u+PKQW/",
      "include_colab_link": true
    },
    "kernelspec": {
      "name": "python3",
      "display_name": "Python 3"
    },
    "language_info": {
      "name": "python"
    }
  },
  "cells": [
    {
      "cell_type": "markdown",
      "metadata": {
        "id": "view-in-github",
        "colab_type": "text"
      },
      "source": [
        "<a href=\"https://colab.research.google.com/github/Aditihkumar/Samsung/blob/main/Regularisation_through_Lasso_.ipynb\" target=\"_parent\"><img src=\"https://colab.research.google.com/assets/colab-badge.svg\" alt=\"Open In Colab\"/></a>"
      ]
    },
    {
      "cell_type": "code",
      "execution_count": 1,
      "metadata": {
        "id": "dKmISyRJo14W"
      },
      "outputs": [],
      "source": [
        "import pandas as pd\n",
        "from sklearn.model_selection import train_test_split\n",
        "from sklearn.preprocessing import StandardScaler\n",
        "from sklearn.compose import ColumnTransformer\n",
        "from sklearn.metrics import root_mean_squared_error\n",
        "from sklearn.linear_model import Lasso  #, ElasticNet"
      ]
    },
    {
      "cell_type": "code",
      "source": [
        "# Create dataset\n",
        "data = {\n",
        "    'Outlook': ['sunny', 'sunny', 'overcast', 'rain', 'rain', 'rain', 'overcast', 'sunny', 'sunny',\n",
        "                'rain', 'sunny', 'overcast', 'overcast', 'rain', 'sunny', 'overcast', 'rain', 'sunny',\n",
        "                'sunny', 'rain', 'overcast', 'rain', 'sunny', 'overcast', 'sunny', 'overcast', 'rain', 'overcast'],\n",
        "    'Temperature': [85, 80, 83, 70, 68, 65, 64, 72, 69, 75, 75, 72, 81, 71, 81, 74, 76, 78, 82,\n",
        "                   67, 85, 73, 88, 77, 79, 80, 66, 84],\n",
        "    'Humidity': [85, 90, 78, 96, 80, 70, 65, 95, 70, 80, 70, 90, 75, 80, 88, 92, 85, 75, 92,\n",
        "                 90, 85, 88, 65, 70, 60, 95, 70, 78],\n",
        "    'Wind': [False, True, False, False, False, True, True, False, False, False, True, True, False,\n",
        "             True, True, False, False, True, False, True, True, False, True, False, False, True, False, False],\n",
        "    'Num_Players': [52, 39, 43, 37, 28, 19, 43, 47, 56, 33, 49, 23, 42, 13, 33, 29, 25, 51, 41,\n",
        "                    14, 34, 29, 49, 36, 57, 21, 23, 41]\n",
        "}"
      ],
      "metadata": {
        "id": "jIBsMGQVpm-K"
      },
      "execution_count": 2,
      "outputs": []
    },
    {
      "cell_type": "code",
      "source": [
        "# Process data\n",
        "df = pd.get_dummies(pd.DataFrame(data), columns=['Outlook'], prefix='', prefix_sep='', dtype=int)\n",
        "df['Wind'] = df['Wind'].astype(int)\n",
        "df = df[['sunny','overcast','rain','Temperature','Humidity','Wind','Num_Players']]\n"
      ],
      "metadata": {
        "id": "EIv07pAcpzJi"
      },
      "execution_count": 3,
      "outputs": []
    },
    {
      "cell_type": "code",
      "source": [
        "# Split data\n",
        "X, y = df.drop(columns='Num_Players'), df['Num_Players']\n",
        "X_train, X_test, y_train, y_test = train_test_split(X, y, train_size=0.5, shuffle=False)\n"
      ],
      "metadata": {
        "id": "FWcJIubkp2XR"
      },
      "execution_count": 4,
      "outputs": []
    },
    {
      "cell_type": "code",
      "source": [
        "\n",
        "# Scale numerical features\n",
        "numerical_cols = ['Temperature', 'Humidity']\n",
        "ct = ColumnTransformer([('scaler', StandardScaler(), numerical_cols)], remainder='passthrough')\n"
      ],
      "metadata": {
        "id": "Hz4tZICSp7L5"
      },
      "execution_count": 5,
      "outputs": []
    },
    {
      "cell_type": "code",
      "source": [
        "\n",
        "# Transform data\n",
        "X_train_scaled = pd.DataFrame(\n",
        "    ct.fit_transform(X_train),\n",
        "    columns=numerical_cols + [col for col in X_train.columns if col not in numerical_cols],\n",
        "    index=X_train.index\n",
        ")"
      ],
      "metadata": {
        "id": "odK_Bwt_p_Oh"
      },
      "execution_count": 6,
      "outputs": []
    },
    {
      "cell_type": "code",
      "source": [
        "X_test_scaled = pd.DataFrame(\n",
        "    ct.transform(X_test),\n",
        "    columns=X_train_scaled.columns,\n",
        "    index=X_test.index\n",
        ")\n"
      ],
      "metadata": {
        "id": "V3EIiDLhqC8R"
      },
      "execution_count": 7,
      "outputs": []
    },
    {
      "cell_type": "code",
      "source": [
        "\n",
        "# Initialize and train the model\n",
        "model = Lasso(alpha=0.1)  # Option 1: Lasso Regression (alpha is the regularization strength, equivalent to λ, uses coordinate descent)\n",
        "#model = ElasticNet(alpha=0.1, l1_ratio=0.5)  # Option 2: Elastic Net Regression (alpha is the overall regularization strength, and l1_ratio is the mix between L1 and L2, uses coordinate descent)\n"
      ],
      "metadata": {
        "id": "Q1DGc5w2qLqh"
      },
      "execution_count": 8,
      "outputs": []
    },
    {
      "cell_type": "code",
      "source": [
        "\n",
        "# Fit the model\n",
        "model.fit(X_train_scaled, y_train)\n",
        "model.coef_"
      ],
      "metadata": {
        "colab": {
          "base_uri": "https://localhost:8080/"
        },
        "id": "NvaiEfpLqUHg",
        "outputId": "108b840f-26e8-4f4f-9cd9-abb03758ad66"
      },
      "execution_count": 9,
      "outputs": [
        {
          "output_type": "execute_result",
          "data": {
            "text/plain": [
              "array([ -0.70222542,  -2.76079437,  10.88167818,   0.        ,\n",
              "       -12.10125388, -12.77847897])"
            ]
          },
          "metadata": {},
          "execution_count": 9
        }
      ]
    },
    {
      "cell_type": "code",
      "source": [
        "\n",
        "# Make predictions\n",
        "y_pred = model.predict(X_test_scaled)\n"
      ],
      "metadata": {
        "id": "27SjTRk6qaFB"
      },
      "execution_count": 10,
      "outputs": []
    },
    {
      "cell_type": "code",
      "source": [
        "\n",
        "# Calculate and print RMSE\n",
        "rmse = root_mean_squared_error(y_test, y_pred)\n",
        "print(f\"RMSE: {rmse:.4f}\")\n"
      ],
      "metadata": {
        "colab": {
          "base_uri": "https://localhost:8080/"
        },
        "id": "iiNEC10AqdoA",
        "outputId": "5ac0dfc3-6727-40c9-e4cd-a369e39c873d"
      },
      "execution_count": 11,
      "outputs": [
        {
          "output_type": "stream",
          "name": "stdout",
          "text": [
            "RMSE: 6.8652\n"
          ]
        }
      ]
    },
    {
      "cell_type": "code",
      "source": [
        "# Additional information about the model\n",
        "print(\"nModel Coefficients:\")"
      ],
      "metadata": {
        "colab": {
          "base_uri": "https://localhost:8080/"
        },
        "id": "Wbj29R65qhfZ",
        "outputId": "cb6c8c96-164f-4fef-87d9-eea421e62f07"
      },
      "execution_count": 12,
      "outputs": [
        {
          "output_type": "stream",
          "name": "stdout",
          "text": [
            "nModel Coefficients:\n"
          ]
        }
      ]
    },
    {
      "cell_type": "code",
      "source": [
        "for feature, coef in zip(X_train_scaled.columns, model.coef_):\n",
        "    print(f\"{feature:13}: {coef:.2f}\")"
      ],
      "metadata": {
        "colab": {
          "base_uri": "https://localhost:8080/"
        },
        "id": "G6mqNa1lqliJ",
        "outputId": "6c54476a-d590-4cfa-d28f-1f4d6799b3f4"
      },
      "execution_count": 13,
      "outputs": [
        {
          "output_type": "stream",
          "name": "stdout",
          "text": [
            "Temperature  : -0.70\n",
            "Humidity     : -2.76\n",
            "sunny        : 10.88\n",
            "overcast     : 0.00\n",
            "rain         : -12.10\n",
            "Wind         : -12.78\n"
          ]
        }
      ]
    },
    {
      "cell_type": "code",
      "source": [
        "print(f\"Intercept    : {model.intercept_:.2f}\")"
      ],
      "metadata": {
        "colab": {
          "base_uri": "https://localhost:8080/"
        },
        "id": "LL79IwziqpC5",
        "outputId": "8eebc9af-b25a-402b-eceb-8db20f918022"
      },
      "execution_count": 14,
      "outputs": [
        {
          "output_type": "stream",
          "name": "stdout",
          "text": [
            "Intercept    : 43.34\n"
          ]
        }
      ]
    }
  ]
}